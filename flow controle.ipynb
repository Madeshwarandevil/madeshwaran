{
 "cells": [
  {
   "cell_type": "markdown",
   "id": "3054b6f5",
   "metadata": {},
   "source": [
    "        # flow controle"
   ]
  },
  {
   "cell_type": "code",
   "execution_count": 1,
   "id": "73f0878a",
   "metadata": {},
   "outputs": [
    {
     "name": "stdout",
     "output_type": "stream",
     "text": [
      "enter a number:100\n",
      "enter a number:50\n"
     ]
    }
   ],
   "source": [
    "num1=input(\"enter a number:\")\n",
    "num2=input(\"enter a number:\")"
   ]
  },
  {
   "cell_type": "code",
   "execution_count": 2,
   "id": "e590fa3f",
   "metadata": {},
   "outputs": [
    {
     "name": "stdout",
     "output_type": "stream",
     "text": [
      "the number100is greater than50\n"
     ]
    }
   ],
   "source": [
    "if int(num1)>int(num2):\n",
    "    print(f\"the number{num1}is greater than{num2}\")"
   ]
  },
  {
   "cell_type": "code",
   "execution_count": 12,
   "id": "4b12e7f2",
   "metadata": {},
   "outputs": [
    {
     "name": "stdout",
     "output_type": "stream",
     "text": [
      "a value9\n",
      "a value3\n"
     ]
    }
   ],
   "source": [
    "num1=input(\"a value\")\n",
    "num2=input(\"a value\")"
   ]
  },
  {
   "cell_type": "code",
   "execution_count": 16,
   "id": "e91a69cc",
   "metadata": {},
   "outputs": [
    {
     "name": "stdout",
     "output_type": "stream",
     "text": [
      "enter a number43\n",
      "enter a number3\n",
      "the number is not divided\n"
     ]
    }
   ],
   "source": [
    "num1=input(\"enter a number\")\n",
    "num2=input(\"enter a number\")\n",
    "if int(num1)%int(num2)==0:\n",
    "    print(f\"the number is divided\")\n",
    "else:\n",
    "    print(\"the number is not divided\")"
   ]
  },
  {
   "cell_type": "code",
   "execution_count": 18,
   "id": "2034bedc",
   "metadata": {},
   "outputs": [
    {
     "name": "stdout",
     "output_type": "stream",
     "text": [
      "enter a number34\n",
      "enter a number65\n",
      "34is not big\n"
     ]
    }
   ],
   "source": [
    "num1=input(\"enter a number\")\n",
    "num2=input(\"enter a number\")\n",
    "if int(num1)>int(num2):\n",
    "    print(f\"{num1}is big\")\n",
    "else:\n",
    "    print(f\"{num1}is not big\")"
   ]
  },
  {
   "cell_type": "code",
   "execution_count": 19,
   "id": "7d278cd6",
   "metadata": {},
   "outputs": [
    {
     "name": "stdout",
     "output_type": "stream",
     "text": [
      "enter a number33\n",
      "enter a number33\n",
      "the number is equal\n"
     ]
    }
   ],
   "source": [
    "num1=input(\"enter a number\")\n",
    "num2=input(\"enter a number\")\n",
    "if int(num1)>int(num2):\n",
    "    print(f\"{num1}is big\")\n",
    "elif int(num1)==int(num2):\n",
    "    print(\"the number is equal\")\n",
    "else:\n",
    "    print(f\"{num1}is not big\")"
   ]
  },
  {
   "cell_type": "code",
   "execution_count": null,
   "id": "96c94a31",
   "metadata": {},
   "outputs": [],
   "source": []
  },
  {
   "cell_type": "code",
   "execution_count": null,
   "id": "54dabfc6",
   "metadata": {},
   "outputs": [],
   "source": []
  },
  {
   "cell_type": "code",
   "execution_count": null,
   "id": "f10b74e8",
   "metadata": {},
   "outputs": [],
   "source": []
  },
  {
   "cell_type": "code",
   "execution_count": null,
   "id": "4d66de74",
   "metadata": {},
   "outputs": [],
   "source": []
  },
  {
   "cell_type": "code",
   "execution_count": null,
   "id": "a06cc99a",
   "metadata": {},
   "outputs": [],
   "source": []
  },
  {
   "cell_type": "code",
   "execution_count": null,
   "id": "f13f8c47",
   "metadata": {},
   "outputs": [],
   "source": []
  },
  {
   "cell_type": "code",
   "execution_count": null,
   "id": "de722ab0",
   "metadata": {},
   "outputs": [],
   "source": []
  },
  {
   "cell_type": "code",
   "execution_count": null,
   "id": "45ead1c1",
   "metadata": {},
   "outputs": [],
   "source": []
  },
  {
   "cell_type": "code",
   "execution_count": null,
   "id": "4d7abad6",
   "metadata": {},
   "outputs": [],
   "source": []
  }
 ],
 "metadata": {
  "kernelspec": {
   "display_name": "Python 3 (ipykernel)",
   "language": "python",
   "name": "python3"
  },
  "language_info": {
   "codemirror_mode": {
    "name": "ipython",
    "version": 3
   },
   "file_extension": ".py",
   "mimetype": "text/x-python",
   "name": "python",
   "nbconvert_exporter": "python",
   "pygments_lexer": "ipython3",
   "version": "3.9.16"
  }
 },
 "nbformat": 4,
 "nbformat_minor": 5
}
