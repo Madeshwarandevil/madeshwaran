{
 "cells": [
  {
   "cell_type": "markdown",
   "id": "0efcdedb",
   "metadata": {},
   "source": [
    "# for loop"
   ]
  },
  {
   "cell_type": "code",
   "execution_count": 1,
   "id": "45f3a4ab",
   "metadata": {},
   "outputs": [
    {
     "name": "stdout",
     "output_type": "stream",
     "text": [
      "nantha\n",
      "mani\n",
      "madesh\n",
      "sriram\n"
     ]
    }
   ],
   "source": [
    "values=(\"nantha\",\"mani\",\"madesh\",\"sriram\")\n",
    "for x in values:\n",
    "    print(x)"
   ]
  },
  {
   "cell_type": "code",
   "execution_count": 2,
   "id": "7e143467",
   "metadata": {},
   "outputs": [
    {
     "name": "stdout",
     "output_type": "stream",
     "text": [
      "1\n",
      "2\n",
      "3\n",
      "4\n",
      "five\n",
      "six\n",
      "7\n",
      "8\n",
      "nine\n",
      "ten\n"
     ]
    }
   ],
   "source": [
    "num=(1,2,3,4,\"five\",\"six\",7,8,\"nine\",\"ten\")\n",
    "for m in num:\n",
    "    print(m)"
   ]
  },
  {
   "cell_type": "code",
   "execution_count": 3,
   "id": "e58ea216",
   "metadata": {},
   "outputs": [
    {
     "name": "stdout",
     "output_type": "stream",
     "text": [
      "1 is odd number\n",
      "2 is even number\n",
      "3 is odd number\n",
      "4 is even number\n",
      "5 is odd number\n",
      "6 is even number\n",
      "7 is odd number\n",
      "8 is even number\n",
      "9 is odd number\n",
      "10 is even number\n"
     ]
    }
   ],
   "source": [
    "num=(1,2,3,4,5,6,7,8,9,10)\n",
    "for n in num:\n",
    "    if n%2==0:\n",
    "        print(f\"{n} is even number\")\n",
    "    else:\n",
    "        print(f\"{n} is odd number\")"
   ]
  },
  {
   "cell_type": "code",
   "execution_count": 4,
   "id": "d39805c4",
   "metadata": {},
   "outputs": [
    {
     "name": "stdout",
     "output_type": "stream",
     "text": [
      "hello\n",
      "hello\n",
      "hello\n",
      "hello\n",
      "hello\n",
      "hello\n",
      "hello\n",
      "hello\n",
      "hello\n",
      "hello\n",
      "hello\n"
     ]
    }
   ],
   "source": [
    "for _ in 'madeshwaran':\n",
    "    print(\"hello\")"
   ]
  },
  {
   "cell_type": "code",
   "execution_count": 5,
   "id": "a5b7a16b",
   "metadata": {},
   "outputs": [
    {
     "name": "stdout",
     "output_type": "stream",
     "text": [
      "hello\n",
      "hello\n"
     ]
    }
   ],
   "source": [
    "for m in 'mj':\n",
    "    print(\"hello\")"
   ]
  },
  {
   "cell_type": "markdown",
   "id": "6c8e9461",
   "metadata": {},
   "source": [
    "# ii)while"
   ]
  },
  {
   "cell_type": "code",
   "execution_count": 6,
   "id": "62795164",
   "metadata": {},
   "outputs": [
    {
     "name": "stdout",
     "output_type": "stream",
     "text": [
      "enter a nubmer:3\n",
      "the sum is0\n",
      "the sum is1\n",
      "the sum is3\n",
      "the sum is6\n"
     ]
    }
   ],
   "source": [
    "n=input(\"enter a nubmer:\")\n",
    "val=0\n",
    "i=0\n",
    "while i <=int(n):\n",
    "    val += i\n",
    "    i += 1\n",
    "    print(f\"the sum is{val}\")"
   ]
  },
  {
   "cell_type": "code",
   "execution_count": 7,
   "id": "271ba838",
   "metadata": {},
   "outputs": [
    {
     "name": "stdout",
     "output_type": "stream",
     "text": [
      "enter a nubmer:5\n",
      "the sum is0\n",
      "the sum is1\n",
      "the sum is3\n",
      "the sum is6\n",
      "the sum is10\n",
      "the sum is15\n"
     ]
    }
   ],
   "source": [
    "n=input(\"enter a nubmer:\")\n",
    "val=0\n",
    "i=0\n",
    "while i <=int(n):\n",
    "    val += i\n",
    "    i += 1\n",
    "    \n",
    "    print(f\"the sum is{val}\")"
   ]
  },
  {
   "cell_type": "code",
   "execution_count": 11,
   "id": "326d19aa",
   "metadata": {},
   "outputs": [
    {
     "name": "stdout",
     "output_type": "stream",
     "text": [
      "0)inside the loop\n",
      "1)inside the loop\n",
      "2)inside the loop\n",
      "3)inside the loop\n",
      "4)inside the loop\n",
      "5)inside the loop\n",
      "6)inside the loop\n",
      "7)inside the loop\n",
      "8)inside the loop\n",
      "9)inside the loop\n",
      "10)loop is ended\n"
     ]
    }
   ],
   "source": [
    "num = 0\n",
    "while num <10:\n",
    "    print(f\"{num})inside the loop\")\n",
    "    num = num+1\n",
    "else:\n",
    "    print(f\"{num})loop is ended\")"
   ]
  },
  {
   "cell_type": "code",
   "execution_count": null,
   "id": "7706d3b0",
   "metadata": {},
   "outputs": [],
   "source": []
  },
  {
   "cell_type": "code",
   "execution_count": null,
   "id": "f2df0a95",
   "metadata": {},
   "outputs": [],
   "source": []
  },
  {
   "cell_type": "code",
   "execution_count": null,
   "id": "f2dea145",
   "metadata": {},
   "outputs": [],
   "source": []
  },
  {
   "cell_type": "code",
   "execution_count": null,
   "id": "fd11e745",
   "metadata": {},
   "outputs": [],
   "source": []
  }
 ],
 "metadata": {
  "kernelspec": {
   "display_name": "Python 3 (ipykernel)",
   "language": "python",
   "name": "python3"
  },
  "language_info": {
   "codemirror_mode": {
    "name": "ipython",
    "version": 3
   },
   "file_extension": ".py",
   "mimetype": "text/x-python",
   "name": "python",
   "nbconvert_exporter": "python",
   "pygments_lexer": "ipython3",
   "version": "3.9.16"
  }
 },
 "nbformat": 4,
 "nbformat_minor": 5
}
