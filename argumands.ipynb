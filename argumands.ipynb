{
 "cells": [
  {
   "cell_type": "code",
   "execution_count": 1,
   "id": "99d76cbf",
   "metadata": {},
   "outputs": [
    {
     "name": "stdout",
     "output_type": "stream",
     "text": [
      "Enter a name:madesh\n",
      "hi,madesh\n"
     ]
    }
   ],
   "source": [
    "def intro(name):\n",
    "    print(f\"hi,{name}\")\n",
    "stud_name=input(\"Enter a name:\")\n",
    "intro(stud_name)\n",
    "          "
   ]
  },
  {
   "cell_type": "code",
   "execution_count": 7,
   "id": "081e6f7f",
   "metadata": {},
   "outputs": [
    {
     "name": "stdout",
     "output_type": "stream",
     "text": [
      "Enter a number1:7\n",
      "Enter a number2:5\n",
      "The sum is:12\n"
     ]
    }
   ],
   "source": [
    "def number(a,b):\n",
    "    return a+b\n",
    "num1=int(input(\"Enter a number1:\"))\n",
    "num2=int(input(\"Enter a number2:\"))\n",
    "add=number(num1,num2)\n",
    "print(f\"The sum is:{add}\")"
   ]
  },
  {
   "cell_type": "code",
   "execution_count": 8,
   "id": "760562da",
   "metadata": {},
   "outputs": [
    {
     "name": "stdout",
     "output_type": "stream",
     "text": [
      "Enter a number:12\n",
      "Enter a number:54\n",
      "value is:66\n"
     ]
    }
   ],
   "source": [
    "def a():\n",
    "    x=m+n\n",
    "    print(f\"value is:{x}\")\n",
    "m=int(input(\"Enter a number:\"))\n",
    "n=int(input(\"Enter a number:\"))\n",
    "a()"
   ]
  },
  {
   "cell_type": "code",
   "execution_count": 14,
   "id": "89945e0f",
   "metadata": {},
   "outputs": [
    {
     "name": "stdout",
     "output_type": "stream",
     "text": [
      "10orengecost234.00\n"
     ]
    }
   ],
   "source": [
    "def f(qty,item,price):\n",
    "    print(f\"{qty}{item}cost{price:.2f}\")\n",
    "f(qty=10,item='orenge',price=234)"
   ]
  },
  {
   "cell_type": "code",
   "execution_count": 16,
   "id": "525ce255",
   "metadata": {},
   "outputs": [
    {
     "name": "stdout",
     "output_type": "stream",
     "text": [
      "10mango cost250.50\n"
     ]
    }
   ],
   "source": [
    "def f(qty=10,item='mango',price=250.5):\n",
    "    print(f'{qty}{item} cost{price:.2f}')\n",
    "f()   "
   ]
  },
  {
   "cell_type": "code",
   "execution_count": 18,
   "id": "05ed97c1",
   "metadata": {},
   "outputs": [
    {
     "name": "stdout",
     "output_type": "stream",
     "text": [
      "His last name is kumar\n"
     ]
    }
   ],
   "source": [
    "def my_function(**kid):\n",
    "    print(\"His last name is\" + kid[\"lname\"])\n",
    "my_function(fname=' nandha',lname=' kumar')"
   ]
  },
  {
   "cell_type": "code",
   "execution_count": null,
   "id": "1377f3f7",
   "metadata": {},
   "outputs": [],
   "source": []
  },
  {
   "cell_type": "code",
   "execution_count": null,
   "id": "b92d3944",
   "metadata": {},
   "outputs": [],
   "source": []
  },
  {
   "cell_type": "code",
   "execution_count": null,
   "id": "96c48dfd",
   "metadata": {},
   "outputs": [],
   "source": []
  },
  {
   "cell_type": "code",
   "execution_count": null,
   "id": "8c41d6b3",
   "metadata": {},
   "outputs": [],
   "source": []
  },
  {
   "cell_type": "code",
   "execution_count": null,
   "id": "e574045e",
   "metadata": {},
   "outputs": [],
   "source": []
  },
  {
   "cell_type": "code",
   "execution_count": null,
   "id": "a6f38eed",
   "metadata": {},
   "outputs": [],
   "source": []
  }
 ],
 "metadata": {
  "kernelspec": {
   "display_name": "Python 3 (ipykernel)",
   "language": "python",
   "name": "python3"
  },
  "language_info": {
   "codemirror_mode": {
    "name": "ipython",
    "version": 3
   },
   "file_extension": ".py",
   "mimetype": "text/x-python",
   "name": "python",
   "nbconvert_exporter": "python",
   "pygments_lexer": "ipython3",
   "version": "3.9.16"
  }
 },
 "nbformat": 4,
 "nbformat_minor": 5
}
