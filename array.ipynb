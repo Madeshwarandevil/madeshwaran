{
 "cells": [
  {
   "cell_type": "markdown",
   "id": "ce006f4c",
   "metadata": {},
   "source": [
    "# numaric"
   ]
  },
  {
   "cell_type": "code",
   "execution_count": 1,
   "id": "a8c558c7",
   "metadata": {},
   "outputs": [],
   "source": [
    "a=122.3\n",
    "b=\"fdsg\"\n",
    "c=-321\n",
    "d=12+2j"
   ]
  },
  {
   "cell_type": "code",
   "execution_count": 6,
   "id": "bc37b273",
   "metadata": {},
   "outputs": [
    {
     "data": {
      "text/plain": [
       "float"
      ]
     },
     "execution_count": 6,
     "metadata": {},
     "output_type": "execute_result"
    }
   ],
   "source": [
    "type(a)"
   ]
  },
  {
   "cell_type": "code",
   "execution_count": 7,
   "id": "2df7e3a7",
   "metadata": {},
   "outputs": [
    {
     "data": {
      "text/plain": [
       "str"
      ]
     },
     "execution_count": 7,
     "metadata": {},
     "output_type": "execute_result"
    }
   ],
   "source": [
    "type(b)"
   ]
  },
  {
   "cell_type": "code",
   "execution_count": 8,
   "id": "ad71ae2e",
   "metadata": {},
   "outputs": [
    {
     "data": {
      "text/plain": [
       "int"
      ]
     },
     "execution_count": 8,
     "metadata": {},
     "output_type": "execute_result"
    }
   ],
   "source": [
    "type(c)"
   ]
  },
  {
   "cell_type": "code",
   "execution_count": 9,
   "id": "4005660a",
   "metadata": {},
   "outputs": [
    {
     "data": {
      "text/plain": [
       "complex"
      ]
     },
     "execution_count": 9,
     "metadata": {},
     "output_type": "execute_result"
    }
   ],
   "source": [
    "type(d)"
   ]
  },
  {
   "cell_type": "code",
   "execution_count": 12,
   "id": "e037056d",
   "metadata": {},
   "outputs": [],
   "source": [
    "str=\"i am devilpearl\"\n",
    "str1=890471"
   ]
  },
  {
   "cell_type": "code",
   "execution_count": 16,
   "id": "ec30d8c7",
   "metadata": {},
   "outputs": [
    {
     "data": {
      "text/plain": [
       "str"
      ]
     },
     "execution_count": 16,
     "metadata": {},
     "output_type": "execute_result"
    }
   ],
   "source": [
    "type(str)\n"
   ]
  },
  {
   "cell_type": "code",
   "execution_count": 17,
   "id": "89f04df9",
   "metadata": {},
   "outputs": [
    {
     "data": {
      "text/plain": [
       "int"
      ]
     },
     "execution_count": 17,
     "metadata": {},
     "output_type": "execute_result"
    }
   ],
   "source": [
    "type(str1)"
   ]
  },
  {
   "cell_type": "code",
   "execution_count": 19,
   "id": "df03b6c3",
   "metadata": {},
   "outputs": [
    {
     "ename": "NameError",
     "evalue": "name 'ar' is not defined",
     "output_type": "error",
     "traceback": [
      "\u001b[1;31m---------------------------------------------------------------------------\u001b[0m",
      "\u001b[1;31mNameError\u001b[0m                                 Traceback (most recent call last)",
      "Cell \u001b[1;32mIn[19], line 1\u001b[0m\n\u001b[1;32m----> 1\u001b[0m X\u001b[38;5;241m=\u001b[39m\u001b[43mar\u001b[49m\u001b[38;5;241m.\u001b[39marray(\u001b[38;5;124m'\u001b[39m\u001b[38;5;124mi\u001b[39m\u001b[38;5;124m'\u001b[39m,[\u001b[38;5;241m23\u001b[39m,\u001b[38;5;241m56\u001b[39m,\u001b[38;5;241m32\u001b[39m,\u001b[38;5;241m45\u001b[39m])\n\u001b[0;32m      2\u001b[0m Y\u001b[38;5;241m=\u001b[39mar\u001b[38;5;241m.\u001b[39marray(\u001b[38;5;124m'\u001b[39m\u001b[38;5;124md\u001b[39m\u001b[38;5;124m'\u001b[39m,[\u001b[38;5;241m287\u001b[39m,\u001b[38;5;241m34\u001b[39m,\u001b[38;5;241m54\u001b[39m,\u001b[38;5;241m23\u001b[39m])\n",
      "\u001b[1;31mNameError\u001b[0m: name 'ar' is not defined"
     ]
    }
   ],
   "source": [
    "X=ar.array('i',[23,56,32,45])\n",
    "Y=ar.array('d',[287,34,54,23])"
   ]
  },
  {
   "cell_type": "markdown",
   "id": "b0af8a4c",
   "metadata": {},
   "source": [
    "# dictionary variable"
   ]
  },
  {
   "cell_type": "code",
   "execution_count": 2,
   "id": "2864d3af",
   "metadata": {},
   "outputs": [],
   "source": [
    "course={1:\"c++\",2:\"chennai\",3:\"java\",4:\"square\"}"
   ]
  },
  {
   "cell_type": "code",
   "execution_count": 3,
   "id": "eed815c9",
   "metadata": {},
   "outputs": [],
   "source": [
    "dets={\"name\":\"mani\",\"class\":\"bsc\"}"
   ]
  },
  {
   "cell_type": "code",
   "execution_count": 4,
   "id": "92e1550e",
   "metadata": {},
   "outputs": [
    {
     "data": {
      "text/plain": [
       "dict_keys([1, 2, 3, 4])"
      ]
     },
     "execution_count": 4,
     "metadata": {},
     "output_type": "execute_result"
    }
   ],
   "source": [
    "course.keys()"
   ]
  },
  {
   "cell_type": "code",
   "execution_count": 5,
   "id": "eb62e72d",
   "metadata": {},
   "outputs": [
    {
     "data": {
      "text/plain": [
       "dict_keys(['name', 'class'])"
      ]
     },
     "execution_count": 5,
     "metadata": {},
     "output_type": "execute_result"
    }
   ],
   "source": [
    "dets.keys()"
   ]
  },
  {
   "cell_type": "code",
   "execution_count": 6,
   "id": "836a8d02",
   "metadata": {},
   "outputs": [
    {
     "data": {
      "text/plain": [
       "dict_values(['c++', 'chennai', 'java', 'square'])"
      ]
     },
     "execution_count": 6,
     "metadata": {},
     "output_type": "execute_result"
    }
   ],
   "source": [
    "course.values()"
   ]
  },
  {
   "cell_type": "code",
   "execution_count": 8,
   "id": "6f5a9c17",
   "metadata": {},
   "outputs": [
    {
     "data": {
      "text/plain": [
       "dict_values(['mani', 'bsc'])"
      ]
     },
     "execution_count": 8,
     "metadata": {},
     "output_type": "execute_result"
    }
   ],
   "source": [
    "dets.values()"
   ]
  },
  {
   "cell_type": "code",
   "execution_count": 9,
   "id": "acff8b1c",
   "metadata": {},
   "outputs": [
    {
     "data": {
      "text/plain": [
       "dict_items([(1, 'c++'), (2, 'chennai'), (3, 'java'), (4, 'square')])"
      ]
     },
     "execution_count": 9,
     "metadata": {},
     "output_type": "execute_result"
    }
   ],
   "source": [
    "course.items()"
   ]
  },
  {
   "cell_type": "code",
   "execution_count": 10,
   "id": "d336aa0e",
   "metadata": {},
   "outputs": [
    {
     "data": {
      "text/plain": [
       "dict_items([('name', 'mani'), ('class', 'bsc')])"
      ]
     },
     "execution_count": 10,
     "metadata": {},
     "output_type": "execute_result"
    }
   ],
   "source": [
    "dets.items()"
   ]
  },
  {
   "cell_type": "code",
   "execution_count": 11,
   "id": "c3452427",
   "metadata": {},
   "outputs": [
    {
     "data": {
      "text/plain": [
       "'c++'"
      ]
     },
     "execution_count": 11,
     "metadata": {},
     "output_type": "execute_result"
    }
   ],
   "source": [
    "course[1]"
   ]
  },
  {
   "cell_type": "code",
   "execution_count": 13,
   "id": "0b590c33",
   "metadata": {},
   "outputs": [
    {
     "data": {
      "text/plain": [
       "'mani'"
      ]
     },
     "execution_count": 13,
     "metadata": {},
     "output_type": "execute_result"
    }
   ],
   "source": [
    "dets[\"name\"]"
   ]
  },
  {
   "cell_type": "code",
   "execution_count": 16,
   "id": "5ed5f1ae",
   "metadata": {},
   "outputs": [],
   "source": [
    "course[2]=\"thanjavure\""
   ]
  },
  {
   "cell_type": "code",
   "execution_count": 17,
   "id": "36f2d11a",
   "metadata": {},
   "outputs": [],
   "source": [
    "course[5]=\"mental\""
   ]
  },
  {
   "cell_type": "code",
   "execution_count": 18,
   "id": "b96933c1",
   "metadata": {},
   "outputs": [
    {
     "data": {
      "text/plain": [
       "dict_items([(1, 'c++'), (2, 'thanjavure'), (3, 'java'), (4, 'square'), (5, 'mental')])"
      ]
     },
     "execution_count": 18,
     "metadata": {},
     "output_type": "execute_result"
    }
   ],
   "source": [
    "course.items()"
   ]
  },
  {
   "cell_type": "code",
   "execution_count": 19,
   "id": "b502dae4",
   "metadata": {},
   "outputs": [
    {
     "data": {
      "text/plain": [
       "'square'"
      ]
     },
     "execution_count": 19,
     "metadata": {},
     "output_type": "execute_result"
    }
   ],
   "source": [
    "course.pop(4)"
   ]
  },
  {
   "cell_type": "code",
   "execution_count": 20,
   "id": "4ed93a64",
   "metadata": {},
   "outputs": [
    {
     "data": {
      "text/plain": [
       "dict_items([(1, 'c++'), (2, 'thanjavure'), (3, 'java'), (5, 'mental')])"
      ]
     },
     "execution_count": 20,
     "metadata": {},
     "output_type": "execute_result"
    }
   ],
   "source": [
    "course.items()"
   ]
  },
  {
   "cell_type": "code",
   "execution_count": 24,
   "id": "fe374ea2",
   "metadata": {},
   "outputs": [],
   "source": [
    "name={1:\"name\",2:1234,3:\"error\"}"
   ]
  },
  {
   "cell_type": "code",
   "execution_count": 22,
   "id": "1ff0f04c",
   "metadata": {},
   "outputs": [],
   "source": [
    "name.clear()"
   ]
  },
  {
   "cell_type": "code",
   "execution_count": 23,
   "id": "579bb6fd",
   "metadata": {},
   "outputs": [
    {
     "data": {
      "text/plain": [
       "dict_items([])"
      ]
     },
     "execution_count": 23,
     "metadata": {},
     "output_type": "execute_result"
    }
   ],
   "source": [
    "name.items()"
   ]
  },
  {
   "cell_type": "code",
   "execution_count": null,
   "id": "6072ddc9",
   "metadata": {},
   "outputs": [],
   "source": []
  },
  {
   "cell_type": "code",
   "execution_count": 27,
   "id": "07867110",
   "metadata": {},
   "outputs": [],
   "source": [
    "a=True"
   ]
  },
  {
   "cell_type": "code",
   "execution_count": 28,
   "id": "3321b3cc",
   "metadata": {},
   "outputs": [
    {
     "data": {
      "text/plain": [
       "bool"
      ]
     },
     "execution_count": 28,
     "metadata": {},
     "output_type": "execute_result"
    }
   ],
   "source": [
    "type(a)"
   ]
  },
  {
   "cell_type": "code",
   "execution_count": null,
   "id": "9dc60a6f",
   "metadata": {},
   "outputs": [],
   "source": []
  },
  {
   "cell_type": "code",
   "execution_count": null,
   "id": "c95d5e3b",
   "metadata": {},
   "outputs": [],
   "source": []
  }
 ],
 "metadata": {
  "kernelspec": {
   "display_name": "Python 3 (ipykernel)",
   "language": "python",
   "name": "python3"
  },
  "language_info": {
   "codemirror_mode": {
    "name": "ipython",
    "version": 3
   },
   "file_extension": ".py",
   "mimetype": "text/x-python",
   "name": "python",
   "nbconvert_exporter": "python",
   "pygments_lexer": "ipython3",
   "version": "3.9.16"
  }
 },
 "nbformat": 4,
 "nbformat_minor": 5
}
